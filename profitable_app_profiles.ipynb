{
 "cells": [
  {
   "cell_type": "markdown",
   "metadata": {},
   "source": [
    "# Profitable App Profiles for Google Play Store and iOS App Store\n",
    "In this project, we will be analyzing apps from the Google Play Store and iOS App Store for profitability. We are working as Data Analysts to see which apps perform the best in terms of user count. Our app will be free and make money through in-app advertisements. \n",
    "\n",
    "Our goal is to analyze what type of apps have the highest user counts in order to optimize our app for the highest profit margin."
   ]
  },
  {
   "cell_type": "markdown",
   "metadata": {},
   "source": [
    "# Opening Our Files\n",
    "We must open our csv files to access the data. \n",
    "1. Import reader from csv by using `from csv import reader`.\n",
    "2. Use `open('AppleStore.csv')` to open the file and save it to the variable `opened_app_store`.\n",
    "3. Use `reader(opened_app_store)` to read the file and save it to the variable `read_app_store`.\n",
    "4. Use `list(read_app_store)` to create a list of the data and save it to the variable `app_store_data`.\n",
    "\n",
    "Repeat steps 2-4 steps for the `googleplaystore.csv`."
   ]
  },
  {
   "cell_type": "code",
   "execution_count": 1,
   "metadata": {},
   "outputs": [],
   "source": [
    "# Open AppStore.csv\n",
    "from csv import reader\n",
    "opened_app_store = open('AppleStore.csv')\n",
    "read_app_store = reader(opened_app_store)\n",
    "app_store_data = list(read_app_store)\n",
    "\n",
    "# Open GooglePlayStore.csv\n",
    "opened_play_store = open('googleplaystore.csv')\n",
    "read_play_store = reader(opened_play_store)\n",
    "play_store_data = list(read_play_store)"
   ]
  },
  {
   "cell_type": "markdown",
   "metadata": {},
   "source": [
    "# Exploring the CSV for Relevant Data\n",
    "We print the first few rows of the data sets to see what columns we will be using for our analysis. \n",
    "\n",
    "We use the header row as a reference to select our columns, as well as the rows with actual data to visualize what the data will look like.\n",
    "\n",
    "We then print the number of rows and number of columns."
   ]
  },
  {
   "cell_type": "code",
   "execution_count": 2,
   "metadata": {
    "scrolled": true
   },
   "outputs": [
    {
     "name": "stdout",
     "output_type": "stream",
     "text": [
      "App Store Data\n",
      "--------------------------------------------------------------\n",
      "\n",
      "\n",
      "['', 'id', 'track_name', 'size_bytes', 'currency', 'price', 'rating_count_tot', 'rating_count_ver', 'user_rating', 'user_rating_ver', 'ver', 'cont_rating', 'prime_genre', 'sup_devices.num', 'ipadSc_urls.num', 'lang.num', 'vpp_lic']\n",
      "\n",
      "\n",
      "['1', '281656475', 'PAC-MAN Premium', '100788224', 'USD', '3.99', '21292', '26', '4', '4.5', '6.3.5', '4+', 'Games', '38', '5', '10', '1']\n",
      "\n",
      "\n",
      "['2', '281796108', 'Evernote - stay organized', '158578688', 'USD', '0', '161065', '26', '4', '3.5', '8.2.2', '4+', 'Productivity', '37', '5', '23', '1']\n",
      "\n",
      "\n",
      "('Number of Rows', 7198)\n",
      "('Number of Columns', 17)\n",
      "\n",
      "\n",
      "\n",
      "\n",
      "Play Store Data\n",
      "--------------------------------------------------------------\n",
      "\n",
      "\n",
      "['App', 'Category', 'Rating', 'Reviews', 'Size', 'Installs', 'Type', 'Price', 'Content Rating', 'Genres', 'Last Updated', 'Current Ver', 'Android Ver']\n",
      "\n",
      "\n",
      "['Photo Editor & Candy Camera & Grid & ScrapBook', 'ART_AND_DESIGN', '4.1', '159', '19M', '10,000+', 'Free', '0', 'Everyone', 'Art & Design', 'January 7, 2018', '1.0.0', '4.0.3 and up']\n",
      "\n",
      "\n",
      "['Coloring book moana', 'ART_AND_DESIGN', '3.9', '967', '14M', '500,000+', 'Free', '0', 'Everyone', 'Art & Design;Pretend Play', 'January 15, 2018', '2.0.0', '4.0.3 and up']\n",
      "\n",
      "\n",
      "('Number of Rows', 10842)\n",
      "('Number of Columns', 13)\n"
     ]
    }
   ],
   "source": [
    "# Print the first few rows\n",
    "def explore_data(dataset, start, end, rows_and_columns=False):\n",
    "    dataset_slice = dataset[start:end]    \n",
    "    for row in dataset_slice:\n",
    "        print(row)\n",
    "        print('\\n')\n",
    "\n",
    "    if rows_and_columns:\n",
    "        rows = ('Number of Rows', len(dataset))\n",
    "        columns = ('Number of Columns', len(dataset[0]))\n",
    "        print(rows)\n",
    "        return columns\n",
    "\n",
    "print('App Store Data')\n",
    "print('--------------------------------------------------------------')\n",
    "print('\\n')\n",
    "print(explore_data(app_store_data, 0, 3, True))\n",
    "print('\\n')\n",
    "print('\\n')\n",
    "print('Play Store Data')\n",
    "print('--------------------------------------------------------------')\n",
    "print('\\n')\n",
    "print(explore_data(play_store_data, 0, 3, True))"
   ]
  },
  {
   "cell_type": "markdown",
   "metadata": {},
   "source": [
    "# Columns We Will Be Using\n",
    "* [App Store Documentation](https://www.kaggle.com/ramamet4/app-store-apple-data-set-10k-apps)\n",
    "* [Google Play Store Documentation](https://www.kaggle.com/lava18/google-play-store-apps)\n",
    "\n",
    "From `AppStore.csv`, we will be using:\n",
    "* track_name - App Name\n",
    "* currency - Currency Type\n",
    "* price - Price of App\n",
    "* rating_count_tot - Total Ratings (all versions)\n",
    "* rating_count_ver - Total Ratings (current version)\n",
    "* user_rating - Avg User Rating (all versions)\n",
    "* prime_genre\n",
    "\n",
    "From `googleplaystore.csv`, we will be using: \n",
    "* App - App Name\n",
    "* Category - App Category\n",
    "* Rating - Avg User Rating\n",
    "* Installs - Number of Installs\n",
    "* Type - Paid or Free\n",
    "* Price - Price of App\n",
    "* Genres - App Genre"
   ]
  },
  {
   "cell_type": "markdown",
   "metadata": {},
   "source": [
    "# Deleting Incorrect Data\n",
    "Row `10473` in our Google Play Store data set is missing its `Category`, which is causing a shift in the columns. Since the columns are now shifted, `19` becomes the app's `Rating`, which is not possible. We delete it by executing `del play_store_data[10473]`. "
   ]
  },
  {
   "cell_type": "code",
   "execution_count": 3,
   "metadata": {},
   "outputs": [
    {
     "name": "stdout",
     "output_type": "stream",
     "text": [
      "['App', 'Category', 'Rating', 'Reviews', 'Size', 'Installs', 'Type', 'Price', 'Content Rating', 'Genres', 'Last Updated', 'Current Ver', 'Android Ver']\n",
      "\n",
      "\n",
      "['Life Made WI-Fi Touchscreen Photo Frame', '1.9', '19', '3.0M', '1,000+', 'Free', '0', 'Everyone', '', 'February 11, 2018', '1.0.19', '4.0 and up']\n",
      "\n",
      "\n",
      "['osmino Wi-Fi: free WiFi', 'TOOLS', '4.2', '134203', '4.1M', '10,000,000+', 'Free', '0', 'Everyone', 'Tools', 'August 7, 2018', '6.06.14', '4.4 and up']\n"
     ]
    }
   ],
   "source": [
    "print(play_store_data[0])\n",
    "print('\\n')\n",
    "print(play_store_data[10473])\n",
    "del play_store_data[10473]\n",
    "print('\\n')\n",
    "print(play_store_data[10473])"
   ]
  },
  {
   "cell_type": "markdown",
   "metadata": {},
   "source": [
    "We print the Header Row to compare to Row `10473`. Since the `Category` column is not present, all values to the right are shifted left. After deletion, Row `10473` is printed again to show the new row. As you can see, this new row has a `Category` column, which leaves the row unaffected."
   ]
  },
  {
   "cell_type": "markdown",
   "metadata": {},
   "source": [
    "# Removing Duplicate Entries: Part One\n",
    "There are multiple cases in which duplicate rows appear in the Google Play Store data set. As you can see below, `Instagram` appears 4 separate times."
   ]
  },
  {
   "cell_type": "code",
   "execution_count": 4,
   "metadata": {},
   "outputs": [
    {
     "name": "stdout",
     "output_type": "stream",
     "text": [
      "['Instagram', 'SOCIAL', '4.5', '66577313', 'Varies with device', '1,000,000,000+', 'Free', '0', 'Teen', 'Social', 'July 31, 2018', 'Varies with device', 'Varies with device']\n",
      "['Instagram', 'SOCIAL', '4.5', '66577446', 'Varies with device', '1,000,000,000+', 'Free', '0', 'Teen', 'Social', 'July 31, 2018', 'Varies with device', 'Varies with device']\n",
      "['Instagram', 'SOCIAL', '4.5', '66577313', 'Varies with device', '1,000,000,000+', 'Free', '0', 'Teen', 'Social', 'July 31, 2018', 'Varies with device', 'Varies with device']\n",
      "['Instagram', 'SOCIAL', '4.5', '66509917', 'Varies with device', '1,000,000,000+', 'Free', '0', 'Teen', 'Social', 'July 31, 2018', 'Varies with device', 'Varies with device']\n"
     ]
    }
   ],
   "source": [
    "for row in play_store_data[1:]:\n",
    "    if row[0] == 'Instagram':\n",
    "        print(row)"
   ]
  },
  {
   "cell_type": "markdown",
   "metadata": {},
   "source": [
    "In fact, there are a total of 1,181 cases of duplicate rows in the Google Play Store data set."
   ]
  },
  {
   "cell_type": "code",
   "execution_count": 5,
   "metadata": {},
   "outputs": [
    {
     "name": "stdout",
     "output_type": "stream",
     "text": [
      "Google Play Store Data:\n",
      "Number of Unique Apps:  9659\n",
      "Number of Duplicate Apps:  1181\n",
      "\n",
      "\n",
      "App Store Data:\n",
      "Number of Unique Apps:  7197\n",
      "Number of Duplicate Apps:  0\n"
     ]
    }
   ],
   "source": [
    "def find_duplicates(data_set):\n",
    "    duplicates = []\n",
    "    unique = []\n",
    "    for row in data_set[1:]:\n",
    "        if row[0] in unique:\n",
    "            duplicates.append(row[0])\n",
    "        else:\n",
    "            unique.append(row[0])\n",
    "            \n",
    "    print('Number of Unique Apps: ', len(unique))\n",
    "    print('Number of Duplicate Apps: ', len(duplicates))\n",
    "\n",
    "print('Google Play Store Data:')\n",
    "play_store = find_duplicates(play_store_data)\n",
    "print('\\n')\n",
    "print('App Store Data:')\n",
    "app_store = find_duplicates(app_store_data)"
   ]
  },
  {
   "cell_type": "markdown",
   "metadata": {},
   "source": [
    "Using `Instagram` as an example, we will be keeping apps with the highest number of reviews, and deleting the duplicates with less reviews. A higher number of reviews means that row is the most up-to-date row that we need."
   ]
  },
  {
   "cell_type": "markdown",
   "metadata": {},
   "source": [
    "# Removing Duplicate Entries: Part Two\n",
    "We want to create a dictionary, where each key is a unique app, and each value is the app's number of reviews."
   ]
  },
  {
   "cell_type": "markdown",
   "metadata": {},
   "source": [
    "### Play Store Expected Length"
   ]
  },
  {
   "cell_type": "code",
   "execution_count": 6,
   "metadata": {},
   "outputs": [
    {
     "name": "stdout",
     "output_type": "stream",
     "text": [
      "Expected Length of Play Store List:  9659\n"
     ]
    }
   ],
   "source": [
    "# Create a new dictionary\n",
    "reviews_max = {}\n",
    "# Iterate through data set\n",
    "for row in play_store_data[1:]:\n",
    "    name = row[0]\n",
    "    n_reviews = float(row[3])\n",
    "    \n",
    "    if (name in reviews_max) and (reviews_max[name] < n_reviews):\n",
    "        reviews_max[name] = n_reviews\n",
    "    elif name not in reviews_max:\n",
    "        reviews_max[name] = n_reviews\n",
    "\n",
    "print('Expected Length of Play Store List: ', len(reviews_max))"
   ]
  },
  {
   "cell_type": "markdown",
   "metadata": {},
   "source": [
    "We iterate through the data set and check the dictionary to see if it contains the values of the data set. \n",
    "\n",
    "If the app is already in the dictionary, it checks the number of reviews. If the next app is a duplicate **and** it has more reviews, then set the number of reviews for that app to the bigger value. "
   ]
  },
  {
   "cell_type": "markdown",
   "metadata": {},
   "source": [
    "### Play Store Length Without Duplicates"
   ]
  },
  {
   "cell_type": "code",
   "execution_count": 7,
   "metadata": {},
   "outputs": [
    {
     "name": "stdout",
     "output_type": "stream",
     "text": [
      "Length of Play Store List Without Duplicates:  9659\n",
      "\n",
      "\n",
      "['Photo Editor & Candy Camera & Grid & ScrapBook', 'ART_AND_DESIGN', '4.1', '159', '19M', '10,000+', 'Free', '0', 'Everyone', 'Art & Design', 'January 7, 2018', '1.0.0', '4.0.3 and up']\n",
      "\n",
      "\n",
      "['U Launcher Lite – FREE Live Cool Themes, Hide Apps', 'ART_AND_DESIGN', '4.7', '87510', '8.7M', '5,000,000+', 'Free', '0', 'Everyone', 'Art & Design', 'August 1, 2018', '1.2.4', '4.0.3 and up']\n",
      "\n",
      "\n",
      "['Sketch - Draw & Paint', 'ART_AND_DESIGN', '4.5', '215644', '25M', '50,000,000+', 'Free', '0', 'Teen', 'Art & Design', 'June 8, 2018', 'Varies with device', '4.2 and up']\n",
      "\n",
      "\n",
      "('Number of Rows', 9659)\n"
     ]
    },
    {
     "data": {
      "text/plain": [
       "('Number of Columns', 13)"
      ]
     },
     "execution_count": 7,
     "metadata": {},
     "output_type": "execute_result"
    }
   ],
   "source": [
    "android_no_duplicates = []\n",
    "already_added = []\n",
    "\n",
    "for row in play_store_data[1:]:\n",
    "    name = row[0]\n",
    "    n_reviews = float(row[3])\n",
    "    \n",
    "    if (n_reviews == reviews_max[name]) and (name not in already_added):\n",
    "        android_no_duplicates.append(row)\n",
    "        already_added.append(name)\n",
    "        \n",
    "print('Length of Play Store List Without Duplicates: ', len(android_no_duplicates))\n",
    "print('\\n')\n",
    "explore_data(android_no_duplicates, 0, 3, True)"
   ]
  },
  {
   "cell_type": "markdown",
   "metadata": {},
   "source": [
    "We create two lists: `android_no_duplicates` for our clean data set and `already_added` for apps that already exist in `android_no_duplicates`.\n",
    "\n",
    "We then iterate through our original data set, `play_store_data`, and grab the `app name` and `number of reviews`.\n",
    "\n",
    "We check `if` the `n_reviews` is equal to the number of reviews in our dictionary `reviews_max` for that app, **and** the `app name` is not in the `already_added` list. If this is **True**, then we append the `row` to `android_no_duplicates` and the `app name` to the `already_added` list.\n",
    "\n",
    "Finally, we print the length of the `android_no_duplicates` list, `9,659`, which is the expected length for our data set.\n",
    "\n",
    "We can now do this process for our `App Store` data set, as shown below.\n",
    "\n",
    "We repeat the same process of finding our expected length first."
   ]
  },
  {
   "cell_type": "markdown",
   "metadata": {},
   "source": [
    "### App Store Expected Length"
   ]
  },
  {
   "cell_type": "code",
   "execution_count": 8,
   "metadata": {},
   "outputs": [
    {
     "name": "stdout",
     "output_type": "stream",
     "text": [
      "Expected Length of App Store List:  7197\n"
     ]
    }
   ],
   "source": [
    "# Create a new dictionary\n",
    "reviews_max = {}\n",
    "# Iterate through data set\n",
    "for row in app_store_data[1:]:\n",
    "    name = row[0]\n",
    "    n_reviews = float(row[3])\n",
    "    \n",
    "    if (name in reviews_max) and (reviews_max[name] < n_reviews):\n",
    "        reviews_max[name] = n_reviews\n",
    "    elif name not in reviews_max:\n",
    "        reviews_max[name] = n_reviews\n",
    "\n",
    "print('Expected Length of App Store List: ', len(reviews_max))"
   ]
  },
  {
   "cell_type": "markdown",
   "metadata": {},
   "source": [
    "Then we find the length after removing the duplicates."
   ]
  },
  {
   "cell_type": "markdown",
   "metadata": {},
   "source": [
    "### App Store Length Without Duplicates"
   ]
  },
  {
   "cell_type": "code",
   "execution_count": 9,
   "metadata": {},
   "outputs": [
    {
     "name": "stdout",
     "output_type": "stream",
     "text": [
      "Length of App Store List Without Duplicates:  7197\n",
      "\n",
      "\n",
      "['1', '281656475', 'PAC-MAN Premium', '100788224', 'USD', '3.99', '21292', '26', '4', '4.5', '6.3.5', '4+', 'Games', '38', '5', '10', '1']\n",
      "\n",
      "\n",
      "['2', '281796108', 'Evernote - stay organized', '158578688', 'USD', '0', '161065', '26', '4', '3.5', '8.2.2', '4+', 'Productivity', '37', '5', '23', '1']\n",
      "\n",
      "\n",
      "['3', '281940292', 'WeatherBug - Local Weather, Radar, Maps, Alerts', '100524032', 'USD', '0', '188583', '2822', '3.5', '4.5', '5.0.0', '4+', 'Weather', '37', '5', '3', '1']\n",
      "\n",
      "\n",
      "('Number of Rows', 7197)\n"
     ]
    },
    {
     "data": {
      "text/plain": [
       "('Number of Columns', 17)"
      ]
     },
     "execution_count": 9,
     "metadata": {},
     "output_type": "execute_result"
    }
   ],
   "source": [
    "ios_no_duplicates = []\n",
    "already_added = []\n",
    "\n",
    "for row in app_store_data[1:]:\n",
    "    name = row[0]\n",
    "    n_reviews = float(row[3])\n",
    "    \n",
    "    if (n_reviews == reviews_max[name]) and (name not in already_added):\n",
    "        ios_no_duplicates.append(row)\n",
    "        already_added.append(name)\n",
    "        \n",
    "print('Length of App Store List Without Duplicates: ', len(ios_no_duplicates))\n",
    "print('\\n')\n",
    "explore_data(ios_no_duplicates, 0, 3, True)"
   ]
  },
  {
   "cell_type": "markdown",
   "metadata": {},
   "source": [
    "Now we have our cleaned `App Store` list along with our cleaned `Play Store` list."
   ]
  },
  {
   "cell_type": "markdown",
   "metadata": {},
   "source": [
    "# Removing Non-English Apps: Part One\n",
    "In this situation, we only use English for the apps the company we work for develops. Therefore, we only want to analyze the apps directed towards an English-speaking audience."
   ]
  },
  {
   "cell_type": "code",
   "execution_count": 10,
   "metadata": {},
   "outputs": [
    {
     "name": "stdout",
     "output_type": "stream",
     "text": [
      "搜狐新闻—新闻热点资讯掌上阅读软件\n",
      "聚力视频-蓝光电视剧电影在线热播\n",
      "\n",
      "\n",
      "中国語 AQリスニング\n",
      "لعبة تقدر تربح DZ\n"
     ]
    }
   ],
   "source": [
    "print(app_store_data[815][2])\n",
    "print(app_store_data[820][2])\n",
    "print('\\n')\n",
    "print(android_no_duplicates[4412][0])\n",
    "print(android_no_duplicates[7940][0])"
   ]
  },
  {
   "cell_type": "markdown",
   "metadata": {},
   "source": [
    "Each character has an associated value to it. The value indicates its ASCII value. The English alphabet, numbers, punctuations, etc fall between 0 and 127. Any value greater than 127 is not in the English vocabulary."
   ]
  },
  {
   "cell_type": "code",
   "execution_count": 11,
   "metadata": {},
   "outputs": [
    {
     "name": "stdout",
     "output_type": "stream",
     "text": [
      "97\n",
      "86\n",
      "25628\n",
      "55\n",
      "61\n"
     ]
    }
   ],
   "source": [
    "print(ord('a'))\n",
    "print(ord('V'))\n",
    "print(ord('搜'))\n",
    "print(ord('7'))\n",
    "print(ord('='))"
   ]
  },
  {
   "cell_type": "markdown",
   "metadata": {},
   "source": [
    "We can build a function that detects whether a character belongs to the set of common English characters, which will assist us in finding and removing all the non-English apps."
   ]
  },
  {
   "cell_type": "code",
   "execution_count": 12,
   "metadata": {},
   "outputs": [
    {
     "name": "stdout",
     "output_type": "stream",
     "text": [
      "True\n",
      "False\n",
      "False\n",
      "False\n"
     ]
    }
   ],
   "source": [
    "def is_english(string):\n",
    "    for char in string:\n",
    "        if ord(char) > 127:\n",
    "            return False\n",
    "        \n",
    "    return True\n",
    "\n",
    "print(is_english('Instagram'))\n",
    "print(is_english('爱奇艺PPS -《欢乐颂2》电视剧热播'))\n",
    "print(is_english('Docs To Go™ Free Office Suite'))\n",
    "print(is_english('Instachat 😜'))"
   ]
  },
  {
   "cell_type": "markdown",
   "metadata": {},
   "source": [
    "# Removing Non-English Apps: Part Two\n",
    "We can see that the function works well for `Instagram` and `爱奇艺PPS -《欢乐颂2》电视剧热播`, returning `True` and `False` respectively. However, the function doesn't seem to pick up characters like `™` or emojis.\n",
    "\n",
    "This is because the value of the characters fall out of the ASCII range of 0-127 as shown below."
   ]
  },
  {
   "cell_type": "code",
   "execution_count": 13,
   "metadata": {},
   "outputs": [
    {
     "name": "stdout",
     "output_type": "stream",
     "text": [
      "8482\n",
      "128540\n"
     ]
    }
   ],
   "source": [
    "print(ord('™'))\n",
    "print(ord('😜'))"
   ]
  },
  {
   "cell_type": "markdown",
   "metadata": {},
   "source": [
    "To minimize the data loss that would be caused by this function, we can change our function to return `False` if the `app name` has more than **three** characters that fall outside the ASCII range.\n",
    "\n",
    "The function is not perfect, but it will reduce the amount of data loss from the previous version of the function."
   ]
  },
  {
   "cell_type": "code",
   "execution_count": 14,
   "metadata": {},
   "outputs": [
    {
     "name": "stdout",
     "output_type": "stream",
     "text": [
      "True\n",
      "False\n",
      "True\n",
      "True\n"
     ]
    }
   ],
   "source": [
    "def is_english(string):\n",
    "    count = 0\n",
    "    for char in string:\n",
    "        if ord(char) > 127:\n",
    "            count += 1\n",
    "        if count > 3:\n",
    "            return False\n",
    "        \n",
    "    return True\n",
    "\n",
    "print(is_english('Instagram'))\n",
    "print(is_english('爱奇艺PPS -《欢乐颂2》电视剧热播'))\n",
    "print(is_english('Docs To Go™ Free Office Suite'))\n",
    "print(is_english('Instachat 😜'))"
   ]
  },
  {
   "cell_type": "markdown",
   "metadata": {},
   "source": [
    "We use a `count` to track the number of characters that fall out of our ASCII range. \n",
    "\n",
    "If the character's value is greater than 127, then add 1 to `count`.\n",
    "If `count > 3`, return `False`.\n",
    "\n",
    "Now that we have improved our function, we can use it on our data sets. "
   ]
  },
  {
   "cell_type": "markdown",
   "metadata": {},
   "source": [
    "### Removing Non-English Apps From App Store\n",
    "We will now use the function defined above on the `App Store` data set. \n",
    "\n",
    "We append the English apps to the `ios_english` list."
   ]
  },
  {
   "cell_type": "code",
   "execution_count": 15,
   "metadata": {},
   "outputs": [
    {
     "name": "stdout",
     "output_type": "stream",
     "text": [
      "['1', '281656475', 'PAC-MAN Premium', '100788224', 'USD', '3.99', '21292', '26', '4', '4.5', '6.3.5', '4+', 'Games', '38', '5', '10', '1']\n",
      "\n",
      "\n",
      "['2', '281796108', 'Evernote - stay organized', '158578688', 'USD', '0', '161065', '26', '4', '3.5', '8.2.2', '4+', 'Productivity', '37', '5', '23', '1']\n",
      "\n",
      "\n",
      "['3', '281940292', 'WeatherBug - Local Weather, Radar, Maps, Alerts', '100524032', 'USD', '0', '188583', '2822', '3.5', '4.5', '5.0.0', '4+', 'Weather', '37', '5', '3', '1']\n",
      "\n",
      "\n",
      "('Number of Rows', 6183)\n",
      "('Number of Columns', 17)\n"
     ]
    }
   ],
   "source": [
    "ios_english = []\n",
    "for row in ios_no_duplicates:\n",
    "    if is_english(row[2]):\n",
    "        ios_english.append(row)\n",
    "\n",
    "print(explore_data(ios_english, 0, 3, True))"
   ]
  },
  {
   "cell_type": "markdown",
   "metadata": {},
   "source": [
    "### Removing Non-English Apps From Play Store\n",
    "We will now use the function defined above on the `Play Store` data set.\n",
    "\n",
    "We append the English apps to the `android_english` list."
   ]
  },
  {
   "cell_type": "code",
   "execution_count": 16,
   "metadata": {},
   "outputs": [
    {
     "name": "stdout",
     "output_type": "stream",
     "text": [
      "['Photo Editor & Candy Camera & Grid & ScrapBook', 'ART_AND_DESIGN', '4.1', '159', '19M', '10,000+', 'Free', '0', 'Everyone', 'Art & Design', 'January 7, 2018', '1.0.0', '4.0.3 and up']\n",
      "\n",
      "\n",
      "['U Launcher Lite – FREE Live Cool Themes, Hide Apps', 'ART_AND_DESIGN', '4.7', '87510', '8.7M', '5,000,000+', 'Free', '0', 'Everyone', 'Art & Design', 'August 1, 2018', '1.2.4', '4.0.3 and up']\n",
      "\n",
      "\n",
      "['Sketch - Draw & Paint', 'ART_AND_DESIGN', '4.5', '215644', '25M', '50,000,000+', 'Free', '0', 'Teen', 'Art & Design', 'June 8, 2018', 'Varies with device', '4.2 and up']\n",
      "\n",
      "\n",
      "('Number of Rows', 9614)\n",
      "('Number of Columns', 13)\n"
     ]
    }
   ],
   "source": [
    "android_english = []\n",
    "for row in android_no_duplicates:\n",
    "    if is_english(row[0]):\n",
    "        android_english.append(row)\n",
    "\n",
    "print(explore_data(android_english, 0, 3, True))"
   ]
  },
  {
   "cell_type": "markdown",
   "metadata": {},
   "source": [
    "# Isolating Free Apps\n",
    "Now, we have two lists of apps with no inaccurate data, no duplicates, and no non-English characters.\n",
    "\n",
    "However, our lists contain both paid and free apps. We only want to analyze the free apps. Therefore, we must isolate these free apps in our list."
   ]
  },
  {
   "cell_type": "markdown",
   "metadata": {},
   "source": [
    "### Isolating Free Apps From App Store"
   ]
  },
  {
   "cell_type": "code",
   "execution_count": 17,
   "metadata": {},
   "outputs": [
    {
     "name": "stdout",
     "output_type": "stream",
     "text": [
      "Number of Free Apps in the App Store:  3222\n"
     ]
    }
   ],
   "source": [
    "# Price is at index 5\n",
    "ios_free = []\n",
    "for row in ios_english:\n",
    "    if row[5] == '0':\n",
    "        ios_free.append(row)\n",
    "        \n",
    "print('Number of Free Apps in the App Store: ', len(ios_free))"
   ]
  },
  {
   "cell_type": "markdown",
   "metadata": {},
   "source": [
    "### Isolating Free Apps From Play Store"
   ]
  },
  {
   "cell_type": "code",
   "execution_count": 18,
   "metadata": {},
   "outputs": [
    {
     "name": "stdout",
     "output_type": "stream",
     "text": [
      "Number of Free Apps in the Play Store:  8864\n"
     ]
    }
   ],
   "source": [
    "# Price is at index 7\n",
    "android_free = []\n",
    "for row in android_english:\n",
    "    if row[7] == '0':\n",
    "        android_free.append(row)\n",
    "        \n",
    "print('Number of Free Apps in the Play Store: ', len(android_free))"
   ]
  },
  {
   "cell_type": "markdown",
   "metadata": {},
   "source": [
    "As we can see above, the two lists containing all English apps was narrowed down to just `Free` apps. \n",
    "\n",
    "In the `App Store List`, we have **3,222** free apps.\n",
    "\n",
    "In the `Play Store List`, we have **8,864** free apps."
   ]
  },
  {
   "cell_type": "markdown",
   "metadata": {},
   "source": [
    "# Most Common Apps by Genre: Part One\n",
    "The goal of this project is to determine what kind of apps are likely to attract more users since our revenue is influenced by the number of people using our app.\n",
    "\n",
    "Our main strategy is:\n",
    "\n",
    "1. Develop a minimal Android app for the `Google Play Store`. \n",
    "2. Then, if the app is doing well, we will develop it further. \n",
    "3. Finally, if the app is profitable after six months, we will build an iOS app for the `iOS App Store`. \n",
    "\n",
    "The way we do this is by first analyzing what app profiles are the most successful on both app stores.\n",
    "\n",
    "We will be creating a frequency table using the `prime_genre` column for the `App Store Data Set`, and the `Genres` and `Category` columns for the `Google Play Store Data Set`."
   ]
  },
  {
   "cell_type": "markdown",
   "metadata": {},
   "source": [
    "# Most Common Apps by Genre: Part Two\n",
    "We need two functions:\n",
    "\n",
    "1. One function to generate a frequency table that shows percentages.\n",
    "2. A second function that displays the percentages in descending order."
   ]
  },
  {
   "cell_type": "code",
   "execution_count": 19,
   "metadata": {},
   "outputs": [],
   "source": [
    "# Function to generate a frequency table that shows percentages\n",
    "def freq_table(dataset, index):\n",
    "    frequency_table = {}\n",
    "    for row in dataset:\n",
    "        value = row[index]\n",
    "        if value in frequency_table:\n",
    "            frequency_table[value] += 1\n",
    "        else:\n",
    "            frequency_table[value] = 1\n",
    "    \n",
    "    frequency_percentages = {}\n",
    "    for key in frequency_table:\n",
    "        percentage = (frequency_table[key] / len(frequency_table)) * 100\n",
    "        frequency_percentages[key] = percentage\n",
    "    \n",
    "    return frequency_percentages\n",
    "\n",
    "# Function that displays the percentages in descending order\n",
    "def display_table(dataset, index):\n",
    "    table = freq_table(dataset, index)\n",
    "    table_display = []\n",
    "    for key in table:\n",
    "        key_val_as_tuple = (table[key], key)\n",
    "        table_display.append(key_val_as_tuple)\n",
    "\n",
    "    table_sorted = sorted(table_display, reverse = True)\n",
    "    for entry in table_sorted:\n",
    "        print(entry[1], ':', entry[0])"
   ]
  }
 ],
 "metadata": {
  "kernelspec": {
   "display_name": "Python 3",
   "language": "python",
   "name": "python3"
  },
  "language_info": {
   "codemirror_mode": {
    "name": "ipython",
    "version": 3
   },
   "file_extension": ".py",
   "mimetype": "text/x-python",
   "name": "python",
   "nbconvert_exporter": "python",
   "pygments_lexer": "ipython3",
   "version": "3.7.4"
  }
 },
 "nbformat": 4,
 "nbformat_minor": 2
}
