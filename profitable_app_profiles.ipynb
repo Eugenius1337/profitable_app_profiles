{
 "cells": [
  {
   "cell_type": "markdown",
   "metadata": {},
   "source": [
    "# Profitable App Profiles for Google Play Store and iOS App Store\n",
    "In this project, we will be analyzing apps from the Google Play Store and iOS App Store for profitability. We are working as Data Analysts to see which apps perform the best in terms of user count. Our app will be free and make money through in-app advertisements. \n",
    "\n",
    "Our goal is to analyze what type of apps have the highest user counts in order to optimize our app for the highest profit margin."
   ]
  },
  {
   "cell_type": "code",
   "execution_count": 7,
   "metadata": {},
   "outputs": [
    {
     "ename": "FileNotFoundError",
     "evalue": "[Errno 2] No such file or directory: 'Macintosh HD\\u2069/Users\\u2069/\\u2068eugeniomartin-carreras/\\u2068dataquest\\u2069/\\u2068projects\\u2069/\\u2068profitable_app_profiles\\u2069/datasets/\\u2069AppleStore.csv'",
     "output_type": "error",
     "traceback": [
      "\u001b[0;31m---------------------------------------------------------------------------\u001b[0m",
      "\u001b[0;31mFileNotFoundError\u001b[0m                         Traceback (most recent call last)",
      "\u001b[0;32m<ipython-input-7-801348b4c0c9>\u001b[0m in \u001b[0;36m<module>\u001b[0;34m\u001b[0m\n\u001b[1;32m      1\u001b[0m \u001b[0;31m# Open AppStore.csv\u001b[0m\u001b[0;34m\u001b[0m\u001b[0;34m\u001b[0m\u001b[0;34m\u001b[0m\u001b[0m\n\u001b[1;32m      2\u001b[0m \u001b[0;32mfrom\u001b[0m \u001b[0mcsv\u001b[0m \u001b[0;32mimport\u001b[0m \u001b[0mreader\u001b[0m\u001b[0;34m\u001b[0m\u001b[0;34m\u001b[0m\u001b[0m\n\u001b[0;32m----> 3\u001b[0;31m \u001b[0mopened_app_store\u001b[0m \u001b[0;34m=\u001b[0m \u001b[0mopen\u001b[0m\u001b[0;34m(\u001b[0m\u001b[0;34m'Macintosh HD⁩/Users⁩/⁨eugeniomartin-carreras/⁨dataquest⁩/⁨projects⁩/⁨profitable_app_profiles⁩/datasets/⁩AppleStore.csv'\u001b[0m\u001b[0;34m)\u001b[0m\u001b[0;34m\u001b[0m\u001b[0;34m\u001b[0m\u001b[0m\n\u001b[0m\u001b[1;32m      4\u001b[0m \u001b[0mread_app_store\u001b[0m \u001b[0;34m=\u001b[0m \u001b[0mreader\u001b[0m\u001b[0;34m(\u001b[0m\u001b[0mopened_app_store\u001b[0m\u001b[0;34m)\u001b[0m\u001b[0;34m\u001b[0m\u001b[0;34m\u001b[0m\u001b[0m\n\u001b[1;32m      5\u001b[0m \u001b[0mapp_store_data\u001b[0m \u001b[0;34m=\u001b[0m \u001b[0mlist\u001b[0m\u001b[0;34m(\u001b[0m\u001b[0mread_app_store\u001b[0m\u001b[0;34m)\u001b[0m\u001b[0;34m\u001b[0m\u001b[0;34m\u001b[0m\u001b[0m\n",
      "\u001b[0;31mFileNotFoundError\u001b[0m: [Errno 2] No such file or directory: 'Macintosh HD\\u2069/Users\\u2069/\\u2068eugeniomartin-carreras/\\u2068dataquest\\u2069/\\u2068projects\\u2069/\\u2068profitable_app_profiles\\u2069/datasets/\\u2069AppleStore.csv'"
     ]
    }
   ],
   "source": [
    "# Open AppStore.csv\n",
    "from csv import reader\n",
    "opened_app_store = open('AppleSto')\n",
    "read_app_store = reader(opened_app_store)\n",
    "app_store_data = list(read_app_store)\n",
    "\n",
    "# Open GooglePlayStore.csv\n",
    "opened_play_store = open('/dataquest/projects/profitable_app_profiles/datasets/googleplaystore.csv')\n",
    "read_play_store = reader(opened_play_store)\n",
    "play_store_data = list(read_play_store)"
   ]
  }
 ],
 "metadata": {
  "kernelspec": {
   "display_name": "Python 3",
   "language": "python",
   "name": "python3"
  },
  "language_info": {
   "codemirror_mode": {
    "name": "ipython",
    "version": 3
   },
   "file_extension": ".py",
   "mimetype": "text/x-python",
   "name": "python",
   "nbconvert_exporter": "python",
   "pygments_lexer": "ipython3",
   "version": "3.7.4"
  }
 },
 "nbformat": 4,
 "nbformat_minor": 2
}
