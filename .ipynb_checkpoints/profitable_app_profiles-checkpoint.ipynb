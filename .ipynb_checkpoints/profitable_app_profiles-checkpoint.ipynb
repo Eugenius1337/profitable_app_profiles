{
 "cells": [
  {
   "cell_type": "markdown",
   "metadata": {},
   "source": [
    "# Profitable App Profiles for Google Play Store and iOS App Store\n",
    "In this project, we will be analyzing apps from the Google Play Store and iOS App Store for profitability. We are working as Data Analysts to see which apps perform the best in terms of user count. Our app will be free and make money through in-app advertisements. \n",
    "\n",
    "Our goal is to analyze what type of apps have the highest user counts in order to optimize our app for the highest profit margin."
   ]
  },
  {
   "cell_type": "markdown",
   "metadata": {},
   "source": [
    "# Opening Our Files\n",
    "We must open our csv files to access the data. \n",
    "1. Import reader from csv by using `from csv import reader`.\n",
    "2. Use `open('AppleStore.csv')` to open the file and save it to the variable `opened_app_store`.\n",
    "3. Use `reader(opened_app_store)` to read the file and save it to the variable `read_app_store`.\n",
    "4. Use `list(read_app_store)` to create a list of the data and save it to the variable `app_store_data`.\n",
    "\n",
    "Repeat steps 2-4 steps for the `googleplaystore.csv`."
   ]
  },
  {
   "cell_type": "code",
   "execution_count": 1,
   "metadata": {},
   "outputs": [],
   "source": [
    "# Open AppStore.csv\n",
    "from csv import reader\n",
    "opened_app_store = open('AppleStore.csv')\n",
    "read_app_store = reader(opened_app_store)\n",
    "app_store_data = list(read_app_store)\n",
    "\n",
    "# Open GooglePlayStore.csv\n",
    "opened_play_store = open('googleplaystore.csv')\n",
    "read_play_store = reader(opened_play_store)\n",
    "play_store_data = list(read_play_store)"
   ]
  },
  {
   "cell_type": "markdown",
   "metadata": {},
   "source": [
    "# Exploring the CSV for Relevant Data\n",
    "We print the first few rows of the data sets to see what columns we will be using for our analysis. \n",
    "\n",
    "We use the header row as a reference to select our columns, as well as the rows with actual data to visualize what the data will look like.\n",
    "\n",
    "We then print the number of rows and number of columns."
   ]
  },
  {
   "cell_type": "code",
   "execution_count": 2,
   "metadata": {
    "scrolled": true
   },
   "outputs": [
    {
     "name": "stdout",
     "output_type": "stream",
     "text": [
      "App Store Data\n",
      "--------------------------------------------------------------\n",
      "\n",
      "\n",
      "['', 'id', 'track_name', 'size_bytes', 'currency', 'price', 'rating_count_tot', 'rating_count_ver', 'user_rating', 'user_rating_ver', 'ver', 'cont_rating', 'prime_genre', 'sup_devices.num', 'ipadSc_urls.num', 'lang.num', 'vpp_lic']\n",
      "\n",
      "\n",
      "['1', '281656475', 'PAC-MAN Premium', '100788224', 'USD', '3.99', '21292', '26', '4', '4.5', '6.3.5', '4+', 'Games', '38', '5', '10', '1']\n",
      "\n",
      "\n",
      "['2', '281796108', 'Evernote - stay organized', '158578688', 'USD', '0', '161065', '26', '4', '3.5', '8.2.2', '4+', 'Productivity', '37', '5', '23', '1']\n",
      "\n",
      "\n",
      "('Number of Rows', 7198)\n",
      "('Number of Columns', 17)\n",
      "\n",
      "\n",
      "\n",
      "\n",
      "Play Store Data\n",
      "--------------------------------------------------------------\n",
      "\n",
      "\n",
      "['App', 'Category', 'Rating', 'Reviews', 'Size', 'Installs', 'Type', 'Price', 'Content Rating', 'Genres', 'Last Updated', 'Current Ver', 'Android Ver']\n",
      "\n",
      "\n",
      "['Photo Editor & Candy Camera & Grid & ScrapBook', 'ART_AND_DESIGN', '4.1', '159', '19M', '10,000+', 'Free', '0', 'Everyone', 'Art & Design', 'January 7, 2018', '1.0.0', '4.0.3 and up']\n",
      "\n",
      "\n",
      "['Coloring book moana', 'ART_AND_DESIGN', '3.9', '967', '14M', '500,000+', 'Free', '0', 'Everyone', 'Art & Design;Pretend Play', 'January 15, 2018', '2.0.0', '4.0.3 and up']\n",
      "\n",
      "\n",
      "('Number of Rows', 10842)\n",
      "('Number of Columns', 13)\n"
     ]
    }
   ],
   "source": [
    "# Print the first few rows\n",
    "def explore_data(dataset, start, end, rows_and_columns=False):\n",
    "    dataset_slice = dataset[start:end]    \n",
    "    for row in dataset_slice:\n",
    "        print(row)\n",
    "        print('\\n')\n",
    "\n",
    "    if rows_and_columns:\n",
    "        rows = ('Number of Rows', len(dataset))\n",
    "        columns = ('Number of Columns', len(dataset[0]))\n",
    "        print(rows)\n",
    "        return columns\n",
    "\n",
    "print('App Store Data')\n",
    "print('--------------------------------------------------------------')\n",
    "print('\\n')\n",
    "print(explore_data(app_store_data, 0, 3, True))\n",
    "print('\\n')\n",
    "print('\\n')\n",
    "print('Play Store Data')\n",
    "print('--------------------------------------------------------------')\n",
    "print('\\n')\n",
    "print(explore_data(play_store_data, 0, 3, True))"
   ]
  },
  {
   "cell_type": "markdown",
   "metadata": {},
   "source": [
    "# Columns We Will Be Using\n",
    "* [App Store Documentation](https://www.kaggle.com/ramamet4/app-store-apple-data-set-10k-apps)\n",
    "* [Google Play Store Documentation](https://www.kaggle.com/lava18/google-play-store-apps)\n",
    "\n",
    "From `AppStore.csv`, we will be using:\n",
    "* track_name - App Name\n",
    "* currency - Currency Type\n",
    "* price - Price of App\n",
    "* rating_count_tot - Total Ratings (all versions)\n",
    "* rating_count_ver - Total Ratings (current version)\n",
    "* user_rating - Avg User Rating (all versions)\n",
    "* prime_genre\n",
    "\n",
    "From `googleplaystore.csv`, we will be using: \n",
    "* App - App Name\n",
    "* Category - App Category\n",
    "* Rating - Avg User Rating\n",
    "* Installs - Number of Installs\n",
    "* Type - Paid or Free\n",
    "* Price - Price of App\n",
    "* Genres - App Genre"
   ]
  },
  {
   "cell_type": "markdown",
   "metadata": {},
   "source": [
    "# Deleting Incorrect Data\n",
    "Row `10473` in our Google Play Store data set is missing its `Category`, which is causing a shift in the columns. Since the columns are now shifted, `19` becomes the app's `Rating`, which is not possible. We delete it by executing `del play_store_data[10473]`. "
   ]
  },
  {
   "cell_type": "code",
   "execution_count": 3,
   "metadata": {},
   "outputs": [
    {
     "name": "stdout",
     "output_type": "stream",
     "text": [
      "['App', 'Category', 'Rating', 'Reviews', 'Size', 'Installs', 'Type', 'Price', 'Content Rating', 'Genres', 'Last Updated', 'Current Ver', 'Android Ver']\n",
      "\n",
      "\n",
      "['Life Made WI-Fi Touchscreen Photo Frame', '1.9', '19', '3.0M', '1,000+', 'Free', '0', 'Everyone', '', 'February 11, 2018', '1.0.19', '4.0 and up']\n",
      "\n",
      "\n",
      "['osmino Wi-Fi: free WiFi', 'TOOLS', '4.2', '134203', '4.1M', '10,000,000+', 'Free', '0', 'Everyone', 'Tools', 'August 7, 2018', '6.06.14', '4.4 and up']\n"
     ]
    }
   ],
   "source": [
    "print(play_store_data[0])\n",
    "print('\\n')\n",
    "print(play_store_data[10473])\n",
    "del play_store_data[10473]\n",
    "print('\\n')\n",
    "print(play_store_data[10473])"
   ]
  },
  {
   "cell_type": "markdown",
   "metadata": {},
   "source": [
    "We print the Header Row to compare to Row `10473`. Since the `Category` column is not present, all values to the right are shifted left. After deletion, Row `10473` is printed again to show the new row. As you can see, this new row has a `Category` column, which leaves the row unaffected."
   ]
  },
  {
   "cell_type": "markdown",
   "metadata": {},
   "source": [
    "# Removing Duplicate Entries: Part One\n",
    "There are multiple cases in which duplicate rows appear in the Google Play Store data set. As you can see below, `Instagram` appears 4 separate times."
   ]
  },
  {
   "cell_type": "code",
   "execution_count": 4,
   "metadata": {},
   "outputs": [
    {
     "name": "stdout",
     "output_type": "stream",
     "text": [
      "['Instagram', 'SOCIAL', '4.5', '66577313', 'Varies with device', '1,000,000,000+', 'Free', '0', 'Teen', 'Social', 'July 31, 2018', 'Varies with device', 'Varies with device']\n",
      "['Instagram', 'SOCIAL', '4.5', '66577446', 'Varies with device', '1,000,000,000+', 'Free', '0', 'Teen', 'Social', 'July 31, 2018', 'Varies with device', 'Varies with device']\n",
      "['Instagram', 'SOCIAL', '4.5', '66577313', 'Varies with device', '1,000,000,000+', 'Free', '0', 'Teen', 'Social', 'July 31, 2018', 'Varies with device', 'Varies with device']\n",
      "['Instagram', 'SOCIAL', '4.5', '66509917', 'Varies with device', '1,000,000,000+', 'Free', '0', 'Teen', 'Social', 'July 31, 2018', 'Varies with device', 'Varies with device']\n"
     ]
    }
   ],
   "source": [
    "for row in play_store_data[1:]:\n",
    "    if row[0] == 'Instagram':\n",
    "        print(row)"
   ]
  },
  {
   "cell_type": "markdown",
   "metadata": {},
   "source": [
    "In fact, there are a total of 1,181 cases of duplicate rows."
   ]
  },
  {
   "cell_type": "code",
   "execution_count": 5,
   "metadata": {},
   "outputs": [
    {
     "name": "stdout",
     "output_type": "stream",
     "text": [
      "Number of Unique Apps:  9659\n",
      "Number of Duplicate Apps:  1181\n"
     ]
    }
   ],
   "source": [
    "duplicates = []\n",
    "unique = []\n",
    "for row in play_store_data[1:]:\n",
    "    if row[0] in unique:\n",
    "        duplicates.append(row[0])\n",
    "    else:\n",
    "        unique.append(row[0])\n",
    "\n",
    "print('Number of Unique Apps: ', len(unique))\n",
    "print('Number of Duplicate Apps: ', len(duplicates))"
   ]
  },
  {
   "cell_type": "markdown",
   "metadata": {},
   "source": [
    "Using `Instagram` as an example, we will be keeping apps with the highest number of reviews, and deleting the duplicates with less reviews. A higher number of reviews means that row is the most up-to-date row that we need."
   ]
  },
  {
   "cell_type": "code",
   "execution_count": 6,
   "metadata": {},
   "outputs": [
    {
     "name": "stdout",
     "output_type": "stream",
     "text": [
      "Expected Length:  9659\n"
     ]
    }
   ],
   "source": [
    "# The -1 accounts for the header row\n",
    "expected_length = len(play_store_data) - len(duplicates) - 1\n",
    "print('Expected Length: ', expected_length)"
   ]
  },
  {
   "cell_type": "markdown",
   "metadata": {},
   "source": [
    "# Removing Duplicate Entries: Part Two\n",
    "We want to create a dictionary, where each key is a unique app, and each value is the app's number of reviews."
   ]
  },
  {
   "cell_type": "code",
   "execution_count": 7,
   "metadata": {},
   "outputs": [
    {
     "name": "stdout",
     "output_type": "stream",
     "text": [
      "Expected Length:  9659\n"
     ]
    }
   ],
   "source": [
    "# Create a new dictionary\n",
    "reviews_max = {}\n",
    "# Iterate through data set\n",
    "for row in play_store_data[1:]:\n",
    "    name = row[0]\n",
    "    n_reviews = float(row[3])\n",
    "    \n",
    "    if (name in reviews_max) and (reviews_max[name] < n_reviews):\n",
    "        reviews_max[name] = n_reviews\n",
    "    elif name not in reviews_max:\n",
    "        reviews_max[name] = n_reviews\n",
    "\n",
    "# Check if dictionary length is the length we want it at, which is 9,659\n",
    "print('Expected Length: ', len(reviews_max))"
   ]
  },
  {
   "cell_type": "markdown",
   "metadata": {},
   "source": [
    "We iterate through the data set and check the dictionary to see if it contains the values of the data set. \n",
    "\n",
    "If the app is already in the dictionary, it checks the number of reviews. If the next app is a duplicate **and** it has more reviews, then set the number of reviews for that app to the bigger value. "
   ]
  },
  {
   "cell_type": "code",
   "execution_count": 8,
   "metadata": {},
   "outputs": [
    {
     "name": "stdout",
     "output_type": "stream",
     "text": [
      "Length of Cleaned List:  9659\n"
     ]
    }
   ],
   "source": [
    "android_clean = []\n",
    "already_added = []\n",
    "\n",
    "for row in play_store_data[1:]:\n",
    "    name = row[0]\n",
    "    n_reviews = float(row[3])\n",
    "    \n",
    "    if (n_reviews == reviews_max[name]) and (name not in already_added):\n",
    "        android_clean.append(row)\n",
    "        already_added.append(name)\n",
    "        \n",
    "print('Length of Cleaned List: ', len(android_clean))"
   ]
  },
  {
   "cell_type": "markdown",
   "metadata": {},
   "source": [
    "We create two lists: `android_clean` for our clean data set and `already_added` for apps that already exist in `android_clean`.\n",
    "\n",
    "We then iterate through our original data set, `play_store_data`, and grab the `app name` and `number of reviews`.\n",
    "\n",
    "We check `if` the `n_reviews` is equal to the number of reviews in our dictionary `reviews_max` for that app, **and** the `app name` is not in the `already_added` list. If this is **True**, then we append the `row` to `android_clean` and the `app name` to the `already_added` list.\n",
    "\n",
    "Finally, we print the length of the `android_clean` list, `9,659`, which is the expected length for our data set."
   ]
  }
 ],
 "metadata": {
  "kernelspec": {
   "display_name": "Python 3",
   "language": "python",
   "name": "python3"
  },
  "language_info": {
   "codemirror_mode": {
    "name": "ipython",
    "version": 3
   },
   "file_extension": ".py",
   "mimetype": "text/x-python",
   "name": "python",
   "nbconvert_exporter": "python",
   "pygments_lexer": "ipython3",
   "version": "3.7.4"
  }
 },
 "nbformat": 4,
 "nbformat_minor": 2
}
