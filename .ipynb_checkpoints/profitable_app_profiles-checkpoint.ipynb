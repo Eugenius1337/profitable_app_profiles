{
 "cells": [
  {
   "cell_type": "markdown",
   "metadata": {},
   "source": [
    "# Profitable App Profiles for Google Play Store and iOS App Store\n",
    "In this project, we will be analyzing apps from the Google Play Store and iOS App Store for profitability. We are working as Data Analysts to see which apps perform the best in terms of user count. Our app will be free and make money through in-app advertisements. \n",
    "\n",
    "Our goal is to analyze what type of apps have the highest user counts in order to optimize our app for the highest profit margin."
   ]
  },
  {
   "cell_type": "markdown",
   "metadata": {},
   "source": [
    "# Opening Our Files\n",
    "We must open our csv files to access the data. \n",
    "1. Import reader from csv by using `from csv import reader`.\n",
    "2. Use `open('AppleStore.csv')` to open the file and save it to the variable `opened_app_store`.\n",
    "3. Use `reader(opened_app_store)` to read the file and save it to the variable `read_app_store`.\n",
    "4. Use `list(read_app_store)` to create a list of the data and save it to the variable `app_store_data`.\n",
    "\n",
    "Repeat steps 2-4 steps for the `googleplaystore.csv`."
   ]
  },
  {
   "cell_type": "code",
   "execution_count": 1,
   "metadata": {},
   "outputs": [],
   "source": [
    "# Open AppStore.csv\n",
    "from csv import reader\n",
    "opened_app_store = open('AppleStore.csv')\n",
    "read_app_store = reader(opened_app_store)\n",
    "app_store_data = list(read_app_store)\n",
    "\n",
    "# Open GooglePlayStore.csv\n",
    "opened_play_store = open('googleplaystore.csv')\n",
    "read_play_store = reader(opened_play_store)\n",
    "play_store_data = list(read_play_store)"
   ]
  },
  {
   "cell_type": "markdown",
   "metadata": {},
   "source": [
    "# Exploring the CSV for Relevant Data\n",
    "We print the first few rows of the data sets to see what columns we will be using for our analysis. \n",
    "\n",
    "We use the header row as a reference to select our columns, as well as the rows with actual data to visualize what the data will look like.\n",
    "\n",
    "We then print the number of rows and number of columns."
   ]
  },
  {
   "cell_type": "code",
   "execution_count": 2,
   "metadata": {},
   "outputs": [
    {
     "name": "stdout",
     "output_type": "stream",
     "text": [
      "App Store Data\n",
      "--------------------------------------------------------------\n",
      "\n",
      "\n",
      "['', 'id', 'track_name', 'size_bytes', 'currency', 'price', 'rating_count_tot', 'rating_count_ver', 'user_rating', 'user_rating_ver', 'ver', 'cont_rating', 'prime_genre', 'sup_devices.num', 'ipadSc_urls.num', 'lang.num', 'vpp_lic']\n",
      "\n",
      "\n",
      "['1', '281656475', 'PAC-MAN Premium', '100788224', 'USD', '3.99', '21292', '26', '4', '4.5', '6.3.5', '4+', 'Games', '38', '5', '10', '1']\n",
      "\n",
      "\n",
      "['2', '281796108', 'Evernote - stay organized', '158578688', 'USD', '0', '161065', '26', '4', '3.5', '8.2.2', '4+', 'Productivity', '37', '5', '23', '1']\n",
      "\n",
      "\n",
      "('Number of Rows', 7198)\n",
      "('Number of Columns', 17)\n",
      "\n",
      "\n",
      "\n",
      "\n",
      "Play Store Data\n",
      "--------------------------------------------------------------\n",
      "\n",
      "\n",
      "['App', 'Category', 'Rating', 'Reviews', 'Size', 'Installs', 'Type', 'Price', 'Content Rating', 'Genres', 'Last Updated', 'Current Ver', 'Android Ver']\n",
      "\n",
      "\n",
      "['Photo Editor & Candy Camera & Grid & ScrapBook', 'ART_AND_DESIGN', '4.1', '159', '19M', '10,000+', 'Free', '0', 'Everyone', 'Art & Design', 'January 7, 2018', '1.0.0', '4.0.3 and up']\n",
      "\n",
      "\n",
      "['Coloring book moana', 'ART_AND_DESIGN', '3.9', '967', '14M', '500,000+', 'Free', '0', 'Everyone', 'Art & Design;Pretend Play', 'January 15, 2018', '2.0.0', '4.0.3 and up']\n",
      "\n",
      "\n",
      "('Number of Rows', 10842)\n",
      "('Number of Columns', 13)\n"
     ]
    }
   ],
   "source": [
    "# Print the first few rows\n",
    "def explore_data(dataset, start, end, rows_and_columns=False):\n",
    "    dataset_slice = dataset[start:end]    \n",
    "    for row in dataset_slice:\n",
    "        print(row)\n",
    "        print('\\n')\n",
    "\n",
    "    if rows_and_columns:\n",
    "        rows = ('Number of Rows', len(dataset))\n",
    "        columns = ('Number of Columns', len(dataset[0]))\n",
    "        print(rows)\n",
    "        return columns\n",
    "\n",
    "print('App Store Data')\n",
    "print('--------------------------------------------------------------')\n",
    "print('\\n')\n",
    "print(explore_data(app_store_data, 0, 3, True))\n",
    "print('\\n')\n",
    "print('\\n')\n",
    "print('Play Store Data')\n",
    "print('--------------------------------------------------------------')\n",
    "print('\\n')\n",
    "print(explore_data(play_store_data, 0, 3, True))"
   ]
  }
 ],
 "metadata": {
  "kernelspec": {
   "display_name": "Python 3",
   "language": "python",
   "name": "python3"
  },
  "language_info": {
   "codemirror_mode": {
    "name": "ipython",
    "version": 3
   },
   "file_extension": ".py",
   "mimetype": "text/x-python",
   "name": "python",
   "nbconvert_exporter": "python",
   "pygments_lexer": "ipython3",
   "version": "3.7.4"
  }
 },
 "nbformat": 4,
 "nbformat_minor": 2
}
